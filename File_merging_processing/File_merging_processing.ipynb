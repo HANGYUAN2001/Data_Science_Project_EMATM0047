{
 "cells": [
  {
   "cell_type": "code",
   "execution_count": 2,
   "metadata": {
    "id": "K1NJpNgPmQEw"
   },
   "outputs": [
    {
     "name": "stdout",
     "output_type": "stream",
     "text": [
      "All images from /Users/yuanhang/opencv/bristol—python/thses/Eye State Detection Images/Blinks have been renamed and moved to target directory. Processed 13922 images.\n",
      "All images from /Users/yuanhang/opencv/bristol—python/thses/Eye State Detection Images/Open Eyes have been renamed and moved to target directory. Processed 14335 images.\n",
      "All processing completed.\n"
     ]
    }
   ],
   "source": [
    "import os\n",
    "import shutil\n",
    "\n",
    "# Define source and target directory pairs to process\n",
    "directory_pairs = [\n",
    "    {\n",
    "        \"source\": \"/Users/yuanhang/opencv/bristol—python/thses/Eye State Detection Images/Blinks\",\n",
    "        \"target\": \"/Users/yuanhang/opencv/bristol—python/thses/Eye State Detection Images/process/1\"\n",
    "    },\n",
    "    {\n",
    "        \"source\": \"/Users/yuanhang/opencv/bristol—python/thses/Eye State Detection Images/Open Eyes\",\n",
    "        \"target\": \"/Users/yuanhang/opencv/bristol—python/thses/Eye State Detection Images/process/0\"\n",
    "    }\n",
    "]\n",
    "\n",
    "# Process each directory pair\n",
    "for pair in directory_pairs:\n",
    "    base_dir = pair[\"source\"]\n",
    "    target_dir = pair[\"target\"]\n",
    "\n",
    "    # Create target directory if it doesn't exist\n",
    "    os.makedirs(target_dir, exist_ok=True)\n",
    "\n",
    "    # Initialize counter\n",
    "    count = 0\n",
    "\n",
    "    # Traverse all subdirectories and files\n",
    "    for root, dirs, files in os.walk(base_dir):\n",
    "        for file in files:\n",
    "            if file.endswith(\".jpg\"):\n",
    "                # Get relative path\n",
    "                rel_path = os.path.relpath(root, base_dir)\n",
    "\n",
    "                # Build new filename\n",
    "                new_filename = rel_path.replace(os.sep, \"/\") + \"/\" + file\n",
    "                new_filename = new_filename.replace(\"/\", \"_\")  # Replace path separators with underscores\n",
    "\n",
    "                # Create full source and destination paths\n",
    "                src_path = os.path.join(root, file)\n",
    "                dst_path = os.path.join(target_dir, new_filename)\n",
    "\n",
    "                # Copy file\n",
    "                shutil.copy2(src_path, dst_path)\n",
    "                count += 1  # Update count\n",
    "\n",
    "    print(f\"All images from {base_dir} have been renamed and moved to target directory. Processed {count} images.\")\n",
    "\n",
    "print(\"All processing completed.\")"
   ]
  },
  {
   "cell_type": "code",
   "execution_count": null,
   "metadata": {},
   "outputs": [],
   "source": []
  }
 ],
 "metadata": {
  "colab": {
   "provenance": []
  },
  "kernelspec": {
   "display_name": "Python 3 (ipykernel)",
   "language": "python",
   "name": "python3"
  },
  "language_info": {
   "codemirror_mode": {
    "name": "ipython",
    "version": 3
   },
   "file_extension": ".py",
   "mimetype": "text/x-python",
   "name": "python",
   "nbconvert_exporter": "python",
   "pygments_lexer": "ipython3",
   "version": "3.12.7"
  }
 },
 "nbformat": 4,
 "nbformat_minor": 4
}
