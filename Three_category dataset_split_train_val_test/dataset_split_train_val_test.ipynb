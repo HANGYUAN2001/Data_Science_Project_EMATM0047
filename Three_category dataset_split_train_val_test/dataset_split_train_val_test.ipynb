{
 "cells": [
  {
   "cell_type": "code",
   "execution_count": 6,
   "id": "e3871fec-3f22-476b-84a3-52c5eb2b3be1",
   "metadata": {},
   "outputs": [
    {
     "name": "stdout",
     "output_type": "stream",
     "text": [
      "Dataset split completed!\n"
     ]
    }
   ],
   "source": [
    "import os\n",
    "import shutil\n",
    "import random\n",
    "\n",
    "# Data directory\n",
    "data_dir = \"/root/autodl-tmp/data4444\"\n",
    "# Target directory\n",
    "output_dir = \"/root/autodl-tmp/spl_data\"\n",
    "\n",
    "# Class names\n",
    "class_names = ['100', '50', '50-100']\n",
    "\n",
    "# Create output directories\n",
    "for split in ['train', 'val', 'test']:\n",
    "    split_dir = os.path.join(output_dir, split)\n",
    "    os.makedirs(split_dir, exist_ok=True)\n",
    "    for class_name in class_names:\n",
    "        os.makedirs(os.path.join(split_dir, class_name), exist_ok=True)\n",
    "\n",
    "# Iterate through the data directory and split the data\n",
    "for class_name in class_names:\n",
    "    class_path = os.path.join(data_dir, class_name)\n",
    "    images = os.listdir(class_path)\n",
    "    random.shuffle(images)  # Shuffle the images\n",
    "\n",
    "    # Split data: 80% for training, 10% for validation, 10% for testing\n",
    "    train_split = int(0.8 * len(images))\n",
    "    val_split = int(0.1 * len(images))\n",
    "\n",
    "    train_images = images[:train_split]\n",
    "    val_images = images[train_split:train_split + val_split]\n",
    "    test_images = images[train_split + val_split:]\n",
    "\n",
    "    # Move files to corresponding directories\n",
    "    for image in train_images:\n",
    "        shutil.copy(os.path.join(class_path, image), os.path.join(output_dir, 'train', class_name, image))\n",
    "    for image in val_images:\n",
    "        shutil.copy(os.path.join(class_path, image), os.path.join(output_dir, 'val', class_name, image))\n",
    "    for image in test_images:\n",
    "        shutil.copy(os.path.join(class_path, image), os.path.join(output_dir, 'test', class_name, image))\n",
    "\n",
    "print(\"Dataset split completed!\")\n"
   ]
  },
  {
   "cell_type": "code",
   "execution_count": 7,
   "id": "76d7f4f5-5d54-4f36-951e-831115cf996a",
   "metadata": {},
   "outputs": [
    {
     "name": "stdout",
     "output_type": "stream",
     "text": [
      "Folder '/root/autodl-tmp/spl_data' has been compressed to '/root/autodl-fs/spl_data.zip'\n"
     ]
    }
   ],
   "source": [
    "import shutil\n",
    "\n",
    "# Path to the folder you want to compress\n",
    "folder_path = \"/root/autodl-tmp/spl_data\"\n",
    "# Path where the zip file will be saved\n",
    "zip_file_path = \"/root/autodl-fs/spl_data.zip\"\n",
    "\n",
    "# Compress the folder\n",
    "shutil.make_archive(zip_file_path.replace('.zip', ''), 'zip', folder_path)\n",
    "\n",
    "print(f\"Folder '{folder_path}' has been compressed to '{zip_file_path}'\")"
   ]
  },
  {
   "cell_type": "code",
   "execution_count": null,
   "id": "b9ee4e99-bd44-4871-ada9-e1ed3301002d",
   "metadata": {},
   "outputs": [],
   "source": []
  }
 ],
 "metadata": {
  "kernelspec": {
   "display_name": "Python 3 (ipykernel)",
   "language": "python",
   "name": "python3"
  },
  "language_info": {
   "codemirror_mode": {
    "name": "ipython",
    "version": 3
   },
   "file_extension": ".py",
   "mimetype": "text/x-python",
   "name": "python",
   "nbconvert_exporter": "python",
   "pygments_lexer": "ipython3",
   "version": "3.8.10"
  }
 },
 "nbformat": 4,
 "nbformat_minor": 5
}
